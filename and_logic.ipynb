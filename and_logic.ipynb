{
 "cells": [
  {
   "cell_type": "code",
   "execution_count": 1,
   "id": "7f57f610",
   "metadata": {},
   "outputs": [
    {
     "name": "stdout",
     "output_type": "stream",
     "text": [
      "0 0 0 1\n"
     ]
    }
   ],
   "source": [
    "def AND_gate(x1,x2):\n",
    "  #weights\n",
    "  w1 =0.5\n",
    "  w2=0.5\n",
    "  bias=-0.6\n",
    "\n",
    "  #forward\n",
    "  result=x1*w1+x2*w2+bias\n",
    "\n",
    "  #activation\n",
    "  if result>0:\n",
    "    return 1\n",
    "  else:\n",
    "    return 0\n",
    "\n",
    "print(AND_gate(0,0), AND_gate(0,1), AND_gate(1,0), AND_gate(1,1))"
   ]
  },
  {
   "cell_type": "code",
   "execution_count": 3,
   "id": "cce39759",
   "metadata": {},
   "outputs": [
    {
     "name": "stdout",
     "output_type": "stream",
     "text": [
      "0 1 1\n"
     ]
    }
   ],
   "source": [
    "def OR_gate(x1,x2):\n",
    "  #weights\n",
    "  w1 =0.6\n",
    "  w2=0.6\n",
    "  bias=-0.5\n",
    "  \n",
    "  #forward\n",
    "  result=x1*w1+x2*w2+bias\n",
    "  \n",
    "  #activation\n",
    "  if result>0:\n",
    "    return 1\n",
    "  else:\n",
    "    return 0\n",
    "    \n",
    "print(OR_gate(0,0), OR_gate(1,0), OR_gate(1,1))"
   ]
  },
  {
   "cell_type": "code",
   "execution_count": 4,
   "id": "a57cbb8d",
   "metadata": {},
   "outputs": [
    {
     "data": {
      "text/plain": [
       "(1, 0)"
      ]
     },
     "execution_count": 4,
     "metadata": {},
     "output_type": "execute_result"
    }
   ],
   "source": [
    "def NOT_gate(x1):\n",
    "  #weights\n",
    "  w1=-0.6\n",
    "  bias=0.5\n",
    "  \n",
    "  #forward\n",
    "  result=x1*w1+bias\n",
    "  \n",
    "  #activation\n",
    "  if result>0:\n",
    "    return 1\n",
    "  else:\n",
    "    return 0\n",
    "  \n",
    "NOT_gate(0), NOT_gate(1)"
   ]
  },
  {
   "cell_type": "code",
   "execution_count": 6,
   "id": "a5b0fc0c",
   "metadata": {},
   "outputs": [
    {
     "name": "stdout",
     "output_type": "stream",
     "text": [
      "1 1 1 0\n"
     ]
    }
   ],
   "source": [
    "def NAND_gate(x1,x2):\n",
    "  #weights\n",
    "  w1 =-0.5\n",
    "  w2=-0.5\n",
    "  b=0.6\n",
    "\n",
    "  #forward\n",
    "  result=x1*w1+x2*w2+b\n",
    "\n",
    "  #activation\n",
    "  if result>0:\n",
    "    return 1\n",
    "  else:\n",
    "    return 0\n",
    "\n",
    "print(NAND_gate(0,0), NAND_gate(0,1), NAND_gate(1,0), NAND_gate(1,1))"
   ]
  },
  {
   "cell_type": "code",
   "execution_count": 7,
   "id": "0213a659",
   "metadata": {},
   "outputs": [],
   "source": [
    "def step_function(x):\n",
    "  return 1 if x >0 else 0\n",
    "\n",
    "def layerl(x0,x1):\n",
    "  #weights\n",
    "  #NAND\n",
    "  w00=-0.5\n",
    "  w01=-0.5\n",
    "  b0=0.6\n",
    "  #OR\n",
    "  w10=0.6\n",
    "  w11=0.6\n",
    "  b1=-0.5\n",
    "  #OR\n",
    "  w10=0.6\n",
    "  w11=0.6\n",
    "  b1=-0.5\n",
    "  \n",
    "  #forward\n",
    "  result0=x0*w00+x1*w01+b0\n",
    "  result1=x0*w10+x1*w11+b1\n",
    "  \n",
    "  #activation\n",
    "  result0=step_function(result0)\n",
    "  result1=step_function(result1)\n",
    "  \n",
    "  return result0, result1"
   ]
  },
  {
   "cell_type": "code",
   "execution_count": null,
   "id": "06a4e696",
   "metadata": {},
   "outputs": [],
   "source": []
  }
 ],
 "metadata": {
  "kernelspec": {
   "display_name": "base",
   "language": "python",
   "name": "python3"
  },
  "language_info": {
   "codemirror_mode": {
    "name": "ipython",
    "version": 3
   },
   "file_extension": ".py",
   "mimetype": "text/x-python",
   "name": "python",
   "nbconvert_exporter": "python",
   "pygments_lexer": "ipython3",
   "version": "3.12.7"
  }
 },
 "nbformat": 4,
 "nbformat_minor": 5
}
